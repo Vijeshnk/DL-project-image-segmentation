{
  "nbformat": 4,
  "nbformat_minor": 0,
  "metadata": {
    "colab": {
      "name": "image_segmentation.ipynb",
      "provenance": [],
      "collapsed_sections": [],
      "authorship_tag": "ABX9TyNWgsjMVSlcv9Thpg2zsDL/",
      "include_colab_link": true
    },
    "kernelspec": {
      "name": "python3",
      "display_name": "Python 3"
    },
    "language_info": {
      "name": "python"
    },
    "accelerator": "GPU"
  },
  "cells": [
    {
      "cell_type": "markdown",
      "metadata": {
        "id": "view-in-github",
        "colab_type": "text"
      },
      "source": [
        "<a href=\"https://colab.research.google.com/github/Vijeshnk/test/blob/main/image_segmentation.ipynb\" target=\"_parent\"><img src=\"https://colab.research.google.com/assets/colab-badge.svg\" alt=\"Open In Colab\"/></a>"
      ]
    },
    {
      "cell_type": "code",
      "metadata": {
        "colab": {
          "base_uri": "https://localhost:8080/"
        },
        "id": "Z0j-VEwQ0JJ1",
        "outputId": "7679ca76-8dd7-47bc-8aa8-4cc96e3623f3"
      },
      "source": [
        "!pip install -q git+https://github.com/tensorflow/examples.git"
      ],
      "execution_count": 1,
      "outputs": [
        {
          "output_type": "stream",
          "text": [
            "  Building wheel for tensorflow-examples (setup.py) ... \u001b[?25l\u001b[?25hdone\n"
          ],
          "name": "stdout"
        }
      ]
    },
    {
      "cell_type": "code",
      "metadata": {
        "id": "lqLYp6CL3bWU"
      },
      "source": [
        "import tensorflow as tf\n",
        "from tensorflow_examples.models.pix2pix import pix2pix\n",
        "\n",
        "import tensorflow_datasets as tfds\n",
        "tfds.disable_progress_bar()\n",
        "\n",
        "from IPython.display import clear_output\n",
        "import matplotlib.pyplot as plt"
      ],
      "execution_count": 2,
      "outputs": []
    },
    {
      "cell_type": "code",
      "metadata": {
        "colab": {
          "base_uri": "https://localhost:8080/"
        },
        "id": "i6tIUMkR7Pex",
        "outputId": "28f8ab13-368a-4c63-d8c2-fba4a507e89f"
      },
      "source": [
        "dataset, info =tfds.load('oxford_iiit_pet:3.*.*',with_info=True)"
      ],
      "execution_count": 3,
      "outputs": [
        {
          "output_type": "stream",
          "text": [
            "\u001b[1mDownloading and preparing dataset oxford_iiit_pet/3.2.0 (download: 773.52 MiB, generated: 774.69 MiB, total: 1.51 GiB) to /root/tensorflow_datasets/oxford_iiit_pet/3.2.0...\u001b[0m\n",
            "Shuffling and writing examples to /root/tensorflow_datasets/oxford_iiit_pet/3.2.0.incomplete2XG9MS/oxford_iiit_pet-train.tfrecord\n",
            "Shuffling and writing examples to /root/tensorflow_datasets/oxford_iiit_pet/3.2.0.incomplete2XG9MS/oxford_iiit_pet-test.tfrecord\n",
            "\u001b[1mDataset oxford_iiit_pet downloaded and prepared to /root/tensorflow_datasets/oxford_iiit_pet/3.2.0. Subsequent calls will reuse this data.\u001b[0m\n"
          ],
          "name": "stdout"
        }
      ]
    },
    {
      "cell_type": "code",
      "metadata": {
        "id": "imX0N_478-jn"
      },
      "source": [
        "def normalize(input_image,input_mask):\n",
        "  input_image = tf.cast(input_image,tf.float32)/255.0\n",
        "  input_mast -=1\n",
        "  return input_image,input_mask\n",
        "\n",
        "@tf.function\n",
        "def load_image_train(datapoint):\n",
        "  input_image=tf.image.resize(datapoint['image'],(128,128))\n",
        "  input_mask =tf.image.resize['segmentation_mask'],(128,128)\n",
        "\n",
        "  if tf.random.uniform(())>0.5:\n",
        "    input_image=tf.image.flip_left_right(input_image)\n",
        "    input_mask=tf.image.flip_left_right(input_mask)\n",
        "\n",
        "  input_image,input_mask =normalize(input_image,input_mask)\n",
        "  return input_image,input_mask\n",
        "\n",
        "def load_image_test(datapoint):\n",
        "\n",
        "  input_image=tf.image.resize(datapoint['image'],(128,128))\n",
        "  input_mask =tf.image.resize(datapoint['segmentation_mask'],(128,128))\n",
        "\n",
        "  input_image,input_mask =normalize(input_image,input_mask)\n",
        "  return input_image,input_mask\n"
      ],
      "execution_count": 4,
      "outputs": []
    },
    {
      "cell_type": "code",
      "metadata": {
        "id": "6zbzA2wQpvI6"
      },
      "source": [
        ""
      ],
      "execution_count": 4,
      "outputs": []
    }
  ]
}